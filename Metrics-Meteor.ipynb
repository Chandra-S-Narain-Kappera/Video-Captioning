{
 "cells": [
  {
   "cell_type": "markdown",
   "metadata": {},
   "source": [
    "# Note: Run this in Python 2 only."
   ]
  },
  {
   "cell_type": "markdown",
   "metadata": {},
   "source": [
    "-----"
   ]
  },
  {
   "cell_type": "code",
   "execution_count": 8,
   "metadata": {
    "scrolled": true
   },
   "outputs": [
    {
     "name": "stdout",
     "output_type": "stream",
     "text": [
      "2.7.12 (default, Nov 20 2017, 18:23:56) \n",
      "[GCC 5.4.0 20160609]\n"
     ]
    }
   ],
   "source": [
    "import sys\n",
    "print(sys.version)"
   ]
  },
  {
   "cell_type": "code",
   "execution_count": 9,
   "metadata": {},
   "outputs": [],
   "source": [
    "import sys \n",
    "sys.path.append('./MeteorScoring')"
   ]
  },
  {
   "cell_type": "markdown",
   "metadata": {},
   "source": [
    "## Video Caption 2d: Meteor Score"
   ]
  },
  {
   "cell_type": "code",
   "execution_count": 10,
   "metadata": {},
   "outputs": [],
   "source": [
    "import pickle\n",
    "\n",
    "prediction_groundtruths = pickle.load(open( \"./DATA/Predictions/VideoCaptions_2d/video_groundtruth_predictions_p2-2.pkl\", \"rb\"))"
   ]
  },
  {
   "cell_type": "code",
   "execution_count": 11,
   "metadata": {},
   "outputs": [],
   "source": [
    "groundTruths = {}\n",
    "predictions = {}\n",
    "for key, val in prediction_groundtruths.iteritems():\n",
    "    groundTruths[int(key[5:])] = val['GroundTruth']\n",
    "    predictions[int(key[5:])] = [val['Prediction']]\n",
    "\n"
   ]
  },
  {
   "cell_type": "code",
   "execution_count": 12,
   "metadata": {
    "scrolled": false
   },
   "outputs": [],
   "source": [
    "from meteor import Meteor\n",
    "meteorObj = Meteor()\n",
    "score, scores = meteorObj.compute_score(groundTruths, predictions)"
   ]
  },
  {
   "cell_type": "code",
   "execution_count": 13,
   "metadata": {},
   "outputs": [
    {
     "name": "stdout",
     "output_type": "stream",
     "text": [
      "Final Score: 0.308972760276\n"
     ]
    }
   ],
   "source": [
    "print('Final Score: {}'.format(score))"
   ]
  },
  {
   "cell_type": "markdown",
   "metadata": {},
   "source": [
    "-----"
   ]
  },
  {
   "cell_type": "markdown",
   "metadata": {},
   "source": [
    "## Video Caption 2d_mean: Meteor Score"
   ]
  },
  {
   "cell_type": "code",
   "execution_count": 14,
   "metadata": {},
   "outputs": [],
   "source": [
    "import pickle\n",
    "\n",
    "prediction_groundtruths = pickle.load(open( \"./DATA/Predictions/VideoCaptions_2d_mean/video_groundtruth_predictions_p2-2.pkl\", \"rb\"))"
   ]
  },
  {
   "cell_type": "code",
   "execution_count": 15,
   "metadata": {},
   "outputs": [],
   "source": [
    "groundTruths = {}\n",
    "predictions = {}\n",
    "for key, val in prediction_groundtruths.iteritems():\n",
    "    groundTruths[int(key[5:])] = val['GroundTruth']\n",
    "    predictions[int(key[5:])] = [val['Prediction']]\n",
    "\n"
   ]
  },
  {
   "cell_type": "code",
   "execution_count": 16,
   "metadata": {
    "scrolled": false
   },
   "outputs": [],
   "source": [
    "from meteor import Meteor\n",
    "meteorObj = Meteor()\n",
    "score, scores = meteorObj.compute_score(groundTruths, predictions)"
   ]
  },
  {
   "cell_type": "code",
   "execution_count": 17,
   "metadata": {},
   "outputs": [
    {
     "name": "stdout",
     "output_type": "stream",
     "text": [
      "Final Score: 0.261750235802\n"
     ]
    }
   ],
   "source": [
    "print('Final Score: {}'.format(score))"
   ]
  },
  {
   "cell_type": "markdown",
   "metadata": {},
   "source": [
    "-----"
   ]
  },
  {
   "cell_type": "markdown",
   "metadata": {},
   "source": [
    "## Video Caption 3d: Meteor Score"
   ]
  },
  {
   "cell_type": "code",
   "execution_count": 18,
   "metadata": {},
   "outputs": [],
   "source": [
    "import pickle\n",
    "\n",
    "prediction_groundtruths = pickle.load(open( \"./DATA/Predictions/VideoCaptions_3d/video_groundtruth_predictions_p2-2.pkl\", \"rb\"))"
   ]
  },
  {
   "cell_type": "code",
   "execution_count": 19,
   "metadata": {},
   "outputs": [],
   "source": [
    "groundTruths = {}\n",
    "predictions = {}\n",
    "for key, val in prediction_groundtruths.iteritems():\n",
    "    groundTruths[int(key[5:])] = val['GroundTruth']\n",
    "    predictions[int(key[5:])] = [val['Prediction']]\n",
    "\n"
   ]
  },
  {
   "cell_type": "code",
   "execution_count": 20,
   "metadata": {
    "scrolled": false
   },
   "outputs": [],
   "source": [
    "from meteor import Meteor\n",
    "meteorObj = Meteor()\n",
    "score, scores = meteorObj.compute_score(groundTruths, predictions)"
   ]
  },
  {
   "cell_type": "code",
   "execution_count": 21,
   "metadata": {},
   "outputs": [
    {
     "name": "stdout",
     "output_type": "stream",
     "text": [
      "Final Score: 0.199937544665\n"
     ]
    }
   ],
   "source": [
    "print('Final Score: {}'.format(score))"
   ]
  },
  {
   "cell_type": "markdown",
   "metadata": {},
   "source": [
    "------"
   ]
  },
  {
   "cell_type": "markdown",
   "metadata": {
    "collapsed": true
   },
   "source": [
    "# IGNORE: This is test"
   ]
  },
  {
   "cell_type": "code",
   "execution_count": 1,
   "metadata": {},
   "outputs": [
    {
     "data": {
      "text/plain": [
       "(0.49474720892508645, [0.3818250026589431, 1.0])"
      ]
     },
     "execution_count": 1,
     "metadata": {},
     "output_type": "execute_result"
    }
   ],
   "source": [
    "from meteor import Meteor\n",
    "meteorObj = Meteor()\n",
    "meteorObj.compute_score({1:['it is a cat', 'it looks like a cat'], 2: ['it is a chair']},{1:['it is cat'], 2:['it is a chair']})"
   ]
  }
 ],
 "metadata": {
  "kernelspec": {
   "display_name": "Python 2",
   "language": "python",
   "name": "python2"
  },
  "language_info": {
   "codemirror_mode": {
    "name": "ipython",
    "version": 2
   },
   "file_extension": ".py",
   "mimetype": "text/x-python",
   "name": "python",
   "nbconvert_exporter": "python",
   "pygments_lexer": "ipython2",
   "version": "2.7.12"
  }
 },
 "nbformat": 4,
 "nbformat_minor": 2
}
